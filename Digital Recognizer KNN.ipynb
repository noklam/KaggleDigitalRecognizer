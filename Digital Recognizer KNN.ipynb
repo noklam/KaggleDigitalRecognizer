{
 "cells": [
  {
   "cell_type": "code",
   "execution_count": null,
   "metadata": {
    "collapsed": true
   },
   "outputs": [],
   "source": [
    "## Kaggle Digital Recognizer Competition   Simple KNN"
   ]
  },
  {
   "cell_type": "markdown",
   "metadata": {},
   "source": [
    "![Kaggle Digital Recognizer MNISTT](images/DigitalRecognizer1.PNG)\n",
    "![Rank for First Submission](images/DigitalRecognizer2.PNG)"
   ]
  },
  {
   "cell_type": "code",
   "execution_count": null,
   "metadata": {
    "collapsed": true
   },
   "outputs": [],
   "source": [
    "import numpy as np\n",
    "import matplotlib.pyplot as plt\n",
    "import pandas as pd\n",
    "import os\n",
    "from collections import Counter\n",
    "%matplotlib inline"
   ]
  },
  {
   "cell_type": "code",
   "execution_count": null,
   "metadata": {
    "collapsed": true
   },
   "outputs": [],
   "source": [
    "address = '\\\\data\\\\'\n",
    "data_address = ''.join(os.getcwd() + address)"
   ]
  },
  {
   "cell_type": "markdown",
   "metadata": {},
   "source": [
    "Load dataset from the downloaded file"
   ]
  },
  {
   "cell_type": "code",
   "execution_count": null,
   "metadata": {
    "collapsed": true
   },
   "outputs": [],
   "source": [
    "train = pd.read_csv(data_address +'train.csv')\n",
    "test = pd.read_csv(data_address + 'test.csv')"
   ]
  },
  {
   "cell_type": "code",
   "execution_count": null,
   "metadata": {},
   "outputs": [],
   "source": [
    "## The train dataset has one extra column for the label\n",
    "print(train.shape)\n",
    "train.head()\n"
   ]
  },
  {
   "cell_type": "code",
   "execution_count": null,
   "metadata": {},
   "outputs": [],
   "source": [
    "print(test.shape)\n",
    "test.head()"
   ]
  },
  {
   "cell_type": "code",
   "execution_count": null,
   "metadata": {},
   "outputs": [],
   "source": [
    "train_label = train.label\n",
    "train = train.drop('label', axis = 1) ## Drop the label column\n",
    "\n",
    "print(train.shape) ## Check if the column is dropped"
   ]
  },
  {
   "cell_type": "code",
   "execution_count": null,
   "metadata": {
    "collapsed": true
   },
   "outputs": [],
   "source": [
    "train_labels = np.array(train_label)\n",
    "train= np.array(train)\n",
    "test = np.array(test)"
   ]
  },
  {
   "cell_type": "code",
   "execution_count": null,
   "metadata": {
    "collapsed": true
   },
   "outputs": [],
   "source": [
    "## Plot the training dataset\n",
    "def plotmnist(index):\n",
    "    plt.figure()\n",
    "    plt.imshow(train[index].reshape(28,28), cmap = plt.cm.gray_r, interpolation ='nearest')\n",
    "    plt.show()"
   ]
  },
  {
   "cell_type": "code",
   "execution_count": null,
   "metadata": {},
   "outputs": [],
   "source": [
    "plotmnist(10)"
   ]
  },
  {
   "cell_type": "markdown",
   "metadata": {},
   "source": [
    "Now that the data are ready, we can start writing a simple Nearest Neighbour algorithm to train the classifier. But first lets define some useful function to calculate distance between data points."
   ]
  },
  {
   "cell_type": "code",
   "execution_count": null,
   "metadata": {
    "collapsed": true
   },
   "outputs": [],
   "source": [
    "def distance(sample, target): \n",
    "    return np.sqrt(np.sum((sample - target)**2 )) ## The generic formula of Euclidean Distance"
   ]
  },
  {
   "cell_type": "code",
   "execution_count": null,
   "metadata": {},
   "outputs": [],
   "source": [
    "## A liitle check that our function is working.\n",
    "a = np.array([1,4])\n",
    "b = np.array([4,8])\n",
    "distance(a,b)"
   ]
  },
  {
   "cell_type": "code",
   "execution_count": null,
   "metadata": {
    "collapsed": true
   },
   "outputs": [],
   "source": [
    "def nearest_neighbour(sample, target):\n",
    "    #sample = np.array(sample)\n",
    "    #target = np.array(target)\n",
    "    dist_matrix = []\n",
    "    \n",
    "    ## Apply the distance function for each training sample, axis = 1 (column)\n",
    "    \n",
    "    return np.apply_along_axis(distance, 1,sample,target).argmin() ## Returning the index of the minimum distance"
   ]
  },
  {
   "cell_type": "code",
   "execution_count": null,
   "metadata": {
    "collapsed": true
   },
   "outputs": [],
   "source": [
    "p = nearest_neighbour(train,test[10])"
   ]
  },
  {
   "cell_type": "code",
   "execution_count": null,
   "metadata": {},
   "outputs": [],
   "source": [
    "## Again, little quick check\n",
    "a = np.array([[1,4],[3,10],[2,8],[3,7],[4,8]]) ## Expected answer is the 4th element as the distance is 0 (count from 0)\n",
    "b = np.array([4,8])\n",
    "nearest_neighbour(a,b)"
   ]
  },
  {
   "cell_type": "markdown",
   "metadata": {},
   "source": [
    "### Now we can start running the algorihtm on training set with the Nearest Neighbour."
   ]
  },
  {
   "cell_type": "code",
   "execution_count": null,
   "metadata": {
    "collapsed": true
   },
   "outputs": [],
   "source": [
    "def check_nearestneighbour(index):\n",
    "    print('Predict: ' ,train_label[index])\n",
    "    nearest_neighbour(train,test[index])\n",
    "    plotmnist(index)\n",
    "    "
   ]
  },
  {
   "cell_type": "code",
   "execution_count": null,
   "metadata": {},
   "outputs": [],
   "source": [
    "## Sample Check\n",
    "check_nearestneighbour(100)\n"
   ]
  },
  {
   "cell_type": "code",
   "execution_count": null,
   "metadata": {
    "collapsed": true
   },
   "outputs": [],
   "source": [
    "## Create a validation set to get an accuracy estimation\n",
    "split_index  = int(len(train)*0.9)\n",
    "train_set = train[:split_index,]\n",
    "valid_set = train[split_index:,]\n",
    "valid_label = train_labels[split_index:]\n",
    "train_label = train_labels[:split_index]\n"
   ]
  },
  {
   "cell_type": "code",
   "execution_count": null,
   "metadata": {},
   "outputs": [],
   "source": [
    "print(train_set.shape)\n",
    "print(valid_set.shape)"
   ]
  },
  {
   "cell_type": "code",
   "execution_count": null,
   "metadata": {
    "collapsed": true
   },
   "outputs": [],
   "source": [
    "def valid_score(results,i):\n",
    "    \n",
    "    total = i\n",
    "    count = sum(results== valid_label[:i])\n",
    "    print('Correct: ',count,' | ','Total: ',total)\n",
    "    print('Accuracy: ', 1.0 * count / total * 100 , '%')\n",
    "    return 100.0*count/total"
   ]
  },
  {
   "cell_type": "code",
   "execution_count": null,
   "metadata": {},
   "outputs": [],
   "source": [
    "valid_result = []\n",
    "\n",
    "import time\n",
    "start = time.time()\n",
    "\n",
    "for i in range(100) :\n",
    "    valid_result.append(train_label[nearest_neighbour(train_set, valid_set[i])])\n",
    "    \n",
    "end = time.time()\n",
    "print('Time used for 100 samples: ', end - start, '(s)')\n",
    "valid_score(valid_result,100)"
   ]
  },
  {
   "cell_type": "code",
   "execution_count": null,
   "metadata": {
    "collapsed": true
   },
   "outputs": [],
   "source": [
    "#### Instead of using the nearest_neighbour, using K nearest neighobour may improve boundary case.\n",
    "def k_nearest_neighbour(sample, target, k):\n",
    "    #sample = np.array(sample)\n",
    "    #target = np.array(target)\n",
    "    dist_matrix = []\n",
    "    \n",
    "    ## Apply the distance function for each training sample, axis = 1 (column)\n",
    "    temp = tuple(zip(np.apply_along_axis(distance, 1,sample,target),range(len(sample))))\n",
    "    temp_index = sorted(temp)\n",
    "    temp_index = list(zip(*temp_index))[1][:k]  ## The closest k neighbour index\n",
    "    temp_index = list(temp_index)   \n",
    "  \n",
    "    \n",
    "    return  Counter(train_label[temp_index]).most_common(1)[0][0]\n",
    "    ### The highest vote label."
   ]
  },
  {
   "cell_type": "markdown",
   "metadata": {},
   "source": [
    "### Now try the K nearest neighbour see if it improves or not, try a few K value,"
   ]
  },
  {
   "cell_type": "code",
   "execution_count": null,
   "metadata": {
    "collapsed": true
   },
   "outputs": [],
   "source": [
    "import time\n",
    "\n",
    "for k in [3,5,7]:\n",
    "    start = time.time()\n",
    "    valid_result = []\n",
    "    for i in range(100) :\n",
    "        valid_result.append(k_nearest_neighbour(train_set, valid_set[i],k))\n",
    "    \n",
    "    end = time.time()\n",
    "    print('Time used for 100 samples: ', end - start, '(s)')\n",
    "    print('K neighbours: ',k)\n",
    "    valid_score(valid_result,100)"
   ]
  },
  {
   "cell_type": "markdown",
   "metadata": {},
   "source": [
    "### Because the distance matrix is the same for different K-values, we should really return the sorted closest distance matrix first and try different K values afterward to avoid recalculating the same distance matrix. So I write a similar function only for validation purpose so it return a list instead of a label directly."
   ]
  },
  {
   "cell_type": "code",
   "execution_count": null,
   "metadata": {
    "collapsed": true
   },
   "outputs": [],
   "source": [
    "def k_nearest_neighbour_validation(sample, target): ## no k here because we will return the whole list first.\n",
    "    #sample = np.array(sample)\n",
    "    #target = np.array(target)\n",
    "    dist_matrix = []\n",
    "    \n",
    "    ## Apply the distance function for each training sample, axis = 1 (column)\n",
    "    temp = tuple(zip(np.apply_along_axis(distance, 1,sample,target),range(len(sample))))\n",
    "    temp_index = sorted(temp)\n",
    "    temp_index = list(zip(*temp_index))[1][:]  ## The closest k neighbour index\n",
    "    temp_index = list(temp_index)   \n",
    "  \n",
    "    \n",
    "    return  temp_index\n",
    "    ### The highest vote label."
   ]
  },
  {
   "cell_type": "code",
   "execution_count": null,
   "metadata": {
    "collapsed": true
   },
   "outputs": [],
   "source": [
    "distance_matrix = []\n",
    "for i in range(len(valid_set)):\n",
    "    distance_matrix.append(k_nearest_neighbour_validation(train_set, valid_set[i]))"
   ]
  },
  {
   "cell_type": "code",
   "execution_count": null,
   "metadata": {
    "collapsed": true
   },
   "outputs": [],
   "source": [
    "import pickle\n",
    "with open(\"distancematrix.p\", \"wb\") as output_file:\n",
    "    e = pickle.dump(distance_matrix,output_file)"
   ]
  },
  {
   "cell_type": "code",
   "execution_count": null,
   "metadata": {},
   "outputs": [],
   "source": [
    "len(valid_result)"
   ]
  },
  {
   "cell_type": "code",
   "execution_count": null,
   "metadata": {
    "collapsed": true
   },
   "outputs": [],
   "source": [
    "a=Counter(train_label[temp_index])"
   ]
  },
  {
   "cell_type": "code",
   "execution_count": null,
   "metadata": {},
   "outputs": [],
   "source": [
    "a.most_common(1)[0][0]"
   ]
  },
  {
   "cell_type": "code",
   "execution_count": null,
   "metadata": {},
   "outputs": [],
   "source": [
    "valid_result == valid_label[]"
   ]
  },
  {
   "cell_type": "code",
   "execution_count": null,
   "metadata": {
    "scrolled": true
   },
   "outputs": [],
   "source": [
    "import time\n",
    "knn = [2,4,8,16,32,64,128,256,512]\n",
    "accuracy = []\n",
    "valid_results = []\n",
    "for k  in knn:\n",
    "    start = time.time()\n",
    "    valid_result = []\n",
    "    for i in range(len(distance_matrix)) :\n",
    "        temp_index = distance_matrix[i][:k]\n",
    "        valid_result.append(Counter(train_label[temp_index]).most_common(1)[0][0])\n",
    "    valid_results.append(valid_result)\n",
    "        \n",
    "      \n",
    "    \n",
    "    end = time.time()\n",
    "    print('Time used for 100 samples: ', end - start, '(s)|','K neighbours: ',k\n",
    "         )\n",
    "    \n",
    "    accuracy.append(valid_score(valid_result,len(distance_matrix)))\n",
    "    print('---'*10)\n",
    "    "
   ]
  },
  {
   "cell_type": "code",
   "execution_count": null,
   "metadata": {},
   "outputs": [],
   "source": [
    "##Accuracy go downs quite fast when N increas, so I will search the K in smaller number\n",
    "plt.plot(knn,accuracy)"
   ]
  },
  {
   "cell_type": "code",
   "execution_count": null,
   "metadata": {
    "collapsed": true
   },
   "outputs": [],
   "source": [
    "import time\n",
    "knn = range(1, 128)\n",
    "accuracy = []\n",
    "valid_results = []\n",
    "for k  in knn:\n",
    "    start = time.time()\n",
    "    valid_result = []\n",
    "    for i in range(len(distance_matrix)) :\n",
    "        temp_index = distance_matrix[i][:k]\n",
    "        valid_result.append(Counter(train_label[temp_index]).most_common(1)[0][0])\n",
    "    valid_results.append(valid_result)\n",
    "        \n",
    "      \n",
    "    \n",
    "    end = time.time()\n",
    "   \n",
    "    \n",
    "    accuracy.append(sum(valid_result==valid_label)/1.0/len(distance_matrix));\n",
    "   \n",
    "    "
   ]
  },
  {
   "cell_type": "code",
   "execution_count": null,
   "metadata": {},
   "outputs": [],
   "source": [
    "## Seems 3-NN and 5-NN yield best result, I will use 3 for the final test set. It will takes few hours to run.\n",
    "sorted(zip(accuracy,range(1,128)),reverse= True)[0:5]"
   ]
  },
  {
   "cell_type": "code",
   "execution_count": null,
   "metadata": {},
   "outputs": [],
   "source": [
    "##Accuracy go downs quite fast when N increas, so I will search the K in smaller number\n",
    "plt.plot(knn,accuracy)"
   ]
  },
  {
   "cell_type": "markdown",
   "metadata": {},
   "source": [
    "## Larger "
   ]
  },
  {
   "cell_type": "code",
   "execution_count": null,
   "metadata": {
    "collapsed": true
   },
   "outputs": [],
   "source": [
    "#### Similar function but using entire dataset instead of train set only, could have pass one more parameter for\n",
    "#### which training set to use, but for easier debug purpose will keep different functions for now.\n",
    "def k_nearest_neighbour_final(sample, target, k):\n",
    "    #sample = np.array(sample)\n",
    "    #target = np.array(target)\n",
    "    dist_matrix = []\n",
    "    \n",
    "    ## Apply the distance function for each training sample, axis = 1 (column)\n",
    "    temp = tuple(zip(np.apply_along_axis(distance, 1,sample,target),range(len(sample))))\n",
    "    temp_index = sorted(temp)\n",
    "    temp_index = list(zip(*temp_index))[1][:k]  ## The closest k neighbour index\n",
    "    temp_index = list(temp_index)   \n",
    "  \n",
    "    \n",
    "    return  Counter(train_labels[temp_index]).most_common(1)[0][0] ##train_labels is the full set\n",
    "    ### The highest vote label."
   ]
  },
  {
   "cell_type": "code",
   "execution_count": null,
   "metadata": {},
   "outputs": [],
   "source": [
    "submit_result = []\n",
    "start = time.time()\n",
    "for i in range(test.shape[0]):\n",
    "     ## Using entire dataset \"train\" not \"train_set\"\n",
    "    submit_result.append(k_nearest_neighbour_final(train, test[i], 3))\n",
    "    if i %100 == 0:\n",
    "        end = time.time()\n",
    "        print(i%100, '100s batch','Used time for 100 test data: ', end - start)\n",
    "        start = end"
   ]
  },
  {
   "cell_type": "code",
   "execution_count": null,
   "metadata": {
    "collapsed": true
   },
   "outputs": [],
   "source": [
    "\n",
    "with open(\"sumbit.p\", \"wb\") as output_file:\n",
    "    e = pickle.dump(submit_result,output_file)"
   ]
  },
  {
   "cell_type": "code",
   "execution_count": null,
   "metadata": {},
   "outputs": [],
   "source": [
    "len(submit_result)"
   ]
  },
  {
   "cell_type": "code",
   "execution_count": null,
   "metadata": {
    "collapsed": true
   },
   "outputs": [],
   "source": [
    "pd.DataFrame(submit_result).to_csv('result.csv')"
   ]
  },
  {
   "cell_type": "code",
   "execution_count": null,
   "metadata": {},
   "outputs": [],
   "source": [
    "pd.DataFrame(submit_result)"
   ]
  },
  {
   "cell_type": "code",
   "execution_count": null,
   "metadata": {
    "collapsed": true
   },
   "outputs": [],
   "source": []
  }
 ],
 "metadata": {
  "hide_input": false,
  "kernelspec": {
   "display_name": "Python 3",
   "language": "python",
   "name": "python3"
  },
  "language_info": {
   "codemirror_mode": {
    "name": "ipython",
    "version": 3
   },
   "file_extension": ".py",
   "mimetype": "text/x-python",
   "name": "python",
   "nbconvert_exporter": "python",
   "pygments_lexer": "ipython3",
   "version": "3.5.3"
  }
 },
 "nbformat": 4,
 "nbformat_minor": 2
}
